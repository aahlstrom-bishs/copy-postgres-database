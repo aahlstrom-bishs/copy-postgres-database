{
 "cells": [
  {
   "cell_type": "code",
   "execution_count": 1,
   "metadata": {},
   "outputs": [],
   "source": [
    "import json\n",
    "import sys\n",
    "sys.path.append('./lib')\n",
    "\n",
    "from DBConnection import DBConnection\n",
    "from ReadJsonConfig import read_json_config\n",
    "import UsefulFunctions"
   ]
  },
  {
   "cell_type": "code",
   "execution_count": 2,
   "metadata": {},
   "outputs": [],
   "source": [
    "db = DBConnection(read_json_config('./secrets/db_config_localhost.json'))\n",
    "list_schemas = db.get_list_db_schemas()\n",
    "\n",
    "# for each schema, query tables\n",
    "dict_schemas = {}\n",
    "for schema_name in list_schemas:\n",
    "    dict_schemas[schema_name] = {}\n",
    "    list_tables = db.get_list_schema_tables(schema_name)\n",
    "    for table_name in list_tables:\n",
    "        dict_schemas[schema_name][table_name] = {}\n",
    "        dict_schemas[schema_name][table_name]['columns'] = db.get_dict_table_columns(schema_name, table_name)\n",
    "        dict_schemas[schema_name][table_name]['primary_keys'] = db.get_list_primary_keys(schema_name, table_name)\n",
    "        dict_schemas[schema_name][table_name]['foreign_keys_formalized'] = db.get_list_formalized_foreign_keys(schema_name, table_name)\n",
    "        dict_schemas[schema_name][table_name]['foreign_keys_unformalized'] = db.get_list_unformalized_foreign_keys(schema_name, table_name)\n"
   ]
  },
  {
   "cell_type": "code",
   "execution_count": 4,
   "metadata": {},
   "outputs": [],
   "source": [
    "to_delete = [key for key, value in dict_schemas.items() if value == {}]\n",
    "for key in to_delete:\n",
    "    del dict_schemas[key]\n",
    "\n",
    "with open('outputs/schemas_localhost.json', 'w') as outfile:\n",
    "    json.dump(dict_schemas, outfile, indent=4)"
   ]
  },
  {
   "cell_type": "code",
   "execution_count": null,
   "metadata": {},
   "outputs": [],
   "source": []
  }
 ],
 "metadata": {
  "kernelspec": {
   "display_name": "Python 3",
   "language": "python",
   "name": "python3"
  },
  "language_info": {
   "codemirror_mode": {
    "name": "ipython",
    "version": 3
   },
   "file_extension": ".py",
   "mimetype": "text/x-python",
   "name": "python",
   "nbconvert_exporter": "python",
   "pygments_lexer": "ipython3",
   "version": "3.11.3"
  },
  "orig_nbformat": 4
 },
 "nbformat": 4,
 "nbformat_minor": 2
}
