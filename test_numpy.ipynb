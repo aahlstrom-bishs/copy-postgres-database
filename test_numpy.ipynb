{
 "cells": [
  {
   "cell_type": "code",
   "execution_count": 1,
   "metadata": {},
   "outputs": [],
   "source": [
    "import sys\n",
    "import numpy as np\n",
    "\n",
    "import json\n",
    "import pandas as pd\n",
    "import sys\n",
    "sys.path.append('lib')\n",
    "\n",
    "from EfficientNode import Node\n",
    "from ReadJsonConfig import read_json_config\n",
    "from UsefulFunctions import flatten_list"
   ]
  },
  {
   "cell_type": "code",
   "execution_count": 2,
   "metadata": {},
   "outputs": [
    {
     "name": "stdout",
     "output_type": "stream",
     "text": [
      "num tables: 640\n",
      "bytes in int: 28\n",
      "bits in int: 224\n",
      "num ints: 2.857142857142857\n"
     ]
    }
   ],
   "source": [
    "schema = read_json_config('outputs/schemas.json')\n",
    "table_counts = {\n",
    "    key: len(tables.keys())\n",
    "    for key, tables\n",
    "    in schema.items()\n",
    "}\n",
    "num_tables = sum(table_counts.values())\n",
    "print(f\"num tables: {num_tables}\")\n",
    "\n",
    "x = 42\n",
    "num_bytes = sys.getsizeof(x)\n",
    "bits_in_int = num_bytes * 8\n",
    "print(f\"bytes in int: {num_bytes}\")\n",
    "print(f\"bits in int: {bits_in_int}\")\n",
    "print(f\"num ints: {num_tables / bits_in_int}\")"
   ]
  },
  {
   "cell_type": "code",
   "execution_count": 3,
   "metadata": {},
   "outputs": [
    {
     "data": {
      "text/plain": [
       "True"
      ]
     },
     "execution_count": 3,
     "metadata": {},
     "output_type": "execute_result"
    }
   ],
   "source": [
    "from BitFlags import BitFlags\n",
    "flags = BitFlags(num_flags = num_tables)\n",
    "flags.set_bit(127)\n",
    "flags.get_bit(127)"
   ]
  },
  {
   "cell_type": "code",
   "execution_count": 4,
   "metadata": {},
   "outputs": [],
   "source": [
    "values = []\n",
    "for schema_name, table in schema.items():\n",
    "    for table_name, columns in table.items():\n",
    "        for column_name, column in columns.items():\n",
    "            values.append(f\"{schema_name}.{table_name}.{column_name}\")\n",
    "\n",
    "root = Node(values)"
   ]
  },
  {
   "cell_type": "code",
   "execution_count": 5,
   "metadata": {},
   "outputs": [],
   "source": [
    "from EfficientNode import get_reverse_map\n",
    "root.add_node(None, 'a', values[2])\n",
    "root.add_node(None, 'a', values[1])"
   ]
  },
  {
   "cell_type": "code",
   "execution_count": 6,
   "metadata": {},
   "outputs": [
    {
     "name": "stdout",
     "output_type": "stream",
     "text": [
      "[21, 23]\n"
     ]
    }
   ],
   "source": [
    "print(root.nodes[1]['values'].get_flags())"
   ]
  },
  {
   "cell_type": "code",
   "execution_count": 7,
   "metadata": {},
   "outputs": [],
   "source": [
    "root.add_path(\"hello\", values[0])"
   ]
  },
  {
   "cell_type": "code",
   "execution_count": 8,
   "metadata": {},
   "outputs": [
    {
     "data": {
      "text/plain": [
       "['recipe.employeeapprovalemails.columns']"
      ]
     },
     "execution_count": 8,
     "metadata": {},
     "output_type": "execute_result"
    }
   ],
   "source": [
    "root.search_path(\"hello\")"
   ]
  },
  {
   "cell_type": "code",
   "execution_count": null,
   "metadata": {},
   "outputs": [],
   "source": []
  }
 ],
 "metadata": {
  "kernelspec": {
   "display_name": "Python 3",
   "language": "python",
   "name": "python3"
  },
  "language_info": {
   "codemirror_mode": {
    "name": "ipython",
    "version": 3
   },
   "file_extension": ".py",
   "mimetype": "text/x-python",
   "name": "python",
   "nbconvert_exporter": "python",
   "pygments_lexer": "ipython3",
   "version": "3.11.3"
  },
  "orig_nbformat": 4
 },
 "nbformat": 4,
 "nbformat_minor": 2
}
