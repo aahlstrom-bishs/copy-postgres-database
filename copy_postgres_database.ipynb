{
 "cells": [
  {
   "cell_type": "code",
   "execution_count": 1,
   "metadata": {},
   "outputs": [],
   "source": [
    "import sys\n",
    "sys.path.append('./lib')\n",
    "\n",
    "from DBConnection import DBConnection\n",
    "from ReadJsonConfig import read_json_config\n",
    "import UsefulFunctions"
   ]
  },
  {
   "cell_type": "markdown",
   "metadata": {},
   "source": [
    "### example code:\n",
    "\n",
    "``` python\n",
    "UsefulFunctions.duplicate_table(\n",
    "    DBConnection(read_json_config('./secrets/db_config_dev.json')),\n",
    "    DBConnection(\n",
    "        read_json_config('./secrets/db_config_localhost.json'), \n",
    "        editable_environment=True\n",
    "    ),\n",
    "    'public', \n",
    "    'inventory_forecast_store'\n",
    ")\n",
    "```"
   ]
  },
  {
   "cell_type": "code",
   "execution_count": null,
   "metadata": {},
   "outputs": [],
   "source": []
  }
 ],
 "metadata": {
  "kernelspec": {
   "display_name": "Python 3",
   "language": "python",
   "name": "python3"
  },
  "language_info": {
   "codemirror_mode": {
    "name": "ipython",
    "version": 3
   },
   "file_extension": ".py",
   "mimetype": "text/x-python",
   "name": "python",
   "nbconvert_exporter": "python",
   "pygments_lexer": "ipython3",
   "version": "3.11.3"
  },
  "orig_nbformat": 4
 },
 "nbformat": 4,
 "nbformat_minor": 2
}
