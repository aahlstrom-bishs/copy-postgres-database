{
 "cells": [
  {
   "cell_type": "code",
   "execution_count": 1,
   "metadata": {},
   "outputs": [],
   "source": [
    "import json\n",
    "import time\n",
    "import pandas as pd\n",
    "import numpy as np\n",
    "import sys\n",
    "sys.path.append('./lib')\n",
    "\n",
    "from EfficientNode import Node\n",
    "from DBConnection import DBConnection\n",
    "from ReadJsonConfig import read_json_config\n",
    "from UsefulFunctions import flatten_list\n",
    "\n",
    "schema = read_json_config('outputs/schemas_localhost.json')"
   ]
  },
  {
   "cell_type": "code",
   "execution_count": 2,
   "metadata": {},
   "outputs": [
    {
     "data": {
      "text/plain": [
       "['test', 'world']"
      ]
     },
     "execution_count": 2,
     "metadata": {},
     "output_type": "execute_result"
    }
   ],
   "source": [
    "test_root = Node(['world', 'test'])\n",
    "test_root.add_path(\"hello\", \"world\")\n",
    "test_root.add_path(\"'ello\", \"test\")\n",
    "test_root.search('ll')"
   ]
  },
  {
   "cell_type": "code",
   "execution_count": 3,
   "metadata": {},
   "outputs": [],
   "source": [
    "def build_value_string(schema_name: str, table_name: str, column_name: str):\n",
    "    return f\"{schema_name}.{table_name}.{column_name}\""
   ]
  },
  {
   "cell_type": "markdown",
   "metadata": {},
   "source": [
    "# Define Build State Machine"
   ]
  },
  {
   "cell_type": "code",
   "execution_count": 4,
   "metadata": {},
   "outputs": [],
   "source": [
    "def build_state_machine(db: DBConnection, schema: dict, schema_name: str, table_responses: dict, filters: dict):\n",
    "    values = []\n",
    "    for table_name, table_data in schema[schema_name].items():\n",
    "        for column_name in table_data['columns'].keys():\n",
    "            values.append(build_value_string(schema_name, table_name, column_name))\n",
    "    root = Node(values)\n",
    "    max_distance = 6\n",
    "    elapsed_time_map = {}\n",
    "\n",
    "    print(f\"\\nBuilding state machine for {schema_name}...\")\n",
    "    for table_name, response in table_responses.items():\n",
    "        if (any([keyword in table_name.lower() for keyword in filters.get('keywords', [])])):\n",
    "            print(f\"  --  Skipping {schema_name}.{table_name}\")\n",
    "            continue\n",
    "        if (response.get('query') == None):\n",
    "            print(f\"  --  Skipping {schema_name}.{table_name}\")\n",
    "            continue\n",
    "        dict = db.to_dict(response.get('query'), list(schema[schema_name][table_name]['columns'].keys()))\n",
    "        df = pd.DataFrame(dict)\n",
    "        print(f\"{schema_name}.{table_name}\")\n",
    "        start_time = time.time()\n",
    "        for col_name, col_values in df.items():\n",
    "            for col_value in col_values.unique():\n",
    "                if col_value != None and col_value != \"\":\n",
    "                    root.add_path(str(col_value)[:max_distance], build_value_string(schema_name, table_name, col_name))\n",
    "        elapsed_time_map[f\"{schema_name}.{table_name}\"] = time.time() - start_time\n",
    "\n",
    "    return root, elapsed_time_map"
   ]
  },
  {
   "cell_type": "markdown",
   "metadata": {},
   "source": [
    "# define query schema function"
   ]
  },
  {
   "cell_type": "code",
   "execution_count": 5,
   "metadata": {},
   "outputs": [],
   "source": [
    "def query_schema(db: DBConnection, schema: dict, schema_name: str, filters: dict):\n",
    "    queries = {}\n",
    "    print(f\"Fetching schema {schema_name}...\")\n",
    "    for table_name in schema[schema_name].keys():\n",
    "        if (table_name in filters.get('tables', [])):\n",
    "            print(f\"    --  Skipping {table_name} : filter table match...\")\n",
    "            continue\n",
    "        if (any([keyword in table_name for keyword in filters.get('keywords', [])])):\n",
    "            print(f\"    --  Skipping {table_name} : filter keyword match...\")\n",
    "            continue\n",
    "            \n",
    "        print(f\"    >>  {table_name}\")\n",
    "        if not table_name in queries:\n",
    "            queries[table_name] = {}\n",
    "        try:\n",
    "            start_time = time.time()\n",
    "            queries[table_name]['query'] = db.fetch_query(f\"SELECT * FROM {schema_name}.{table_name}\")\n",
    "            queries[table_name]['time'] = time.time() - start_time\n",
    "        except Exception as e:\n",
    "            print(f\"Error fetching table {table_name} from schema {schema_name}\")\n",
    "            print(e)\n",
    "            queries[table_name] = None\n",
    "            db.rollback_transaction()\n",
    "    return queries"
   ]
  },
  {
   "cell_type": "markdown",
   "metadata": {},
   "source": [
    "# Query Data"
   ]
  },
  {
   "cell_type": "code",
   "execution_count": 6,
   "metadata": {},
   "outputs": [],
   "source": [
    "def query(schema_name):\n",
    "    db = DBConnection(read_json_config('secrets/db_config_localhost.json'))\n",
    "\n",
    "    filters = {\n",
    "        'keywords': [\n",
    "            \"analytics\",\n",
    "            'market',\n",
    "            'backup',\n",
    "            'finance',\n",
    "            'forecast',\n",
    "            'customer',\n",
    "            'call',\n",
    "            'sales',\n",
    "        ],\n",
    "        'tables': [\n",
    "            \"used_make_model\",\n",
    "            \"analytics_marketdata\",\n",
    "            \"marketing_ss2021_11Desig\",\n",
    "            \"date_dimension\",\n",
    "            # \"evo_soldunitlabor\",\n",
    "        ],\n",
    "        'schemas': [\n",
    "            \"nada\",\n",
    "            \"analytics\",\n",
    "            \"public\",\n",
    "            \"inventory\",\n",
    "            \"development\",\n",
    "            \"service\",\n",
    "            \"recipe\",\n",
    "            \"bishfix_dev\",\n",
    "            \"bishnet_dev\",\n",
    "            \"inventory_dev\",\n",
    "        ]\n",
    "    }\n",
    "\n",
    "    responses = query_schema(db, schema, schema_name, filters)\n",
    "    state_machine, elapsed_time = build_state_machine(db, schema, schema_name, responses, filters)\n",
    "    db.close()\n",
    "    return state_machine, elapsed_time, responses\n"
   ]
  },
  {
   "cell_type": "code",
   "execution_count": 7,
   "metadata": {},
   "outputs": [],
   "source": [
    "def save(schema_name, state_machine, elapsed_time):\n",
    "    print(f\"\\nSaving outputs for {schema_name}...\")\n",
    "    state_machine.save(f'state_machine_{schema_name}')\n",
    "    with open(f'outputs/{schema_name}_elapsed_time.json', 'w') as f:\n",
    "        json.dump(elapsed_time, f)"
   ]
  },
  {
   "cell_type": "code",
   "execution_count": 8,
   "metadata": {},
   "outputs": [
    {
     "name": "stdout",
     "output_type": "stream",
     "text": [
      "Fetching schema bishnet...\n",
      "    >>  check_for_approval\n",
      "    >>  complaint_image\n",
      "    >>  employee\n",
      "    >>  appsheets_techtime\n",
      "    --  Skipping appsheets_techtime_backup : filter keyword match...\n",
      "    >>  bad_open_service_det_unit_job_cause\n",
      "    >>  bfr\n",
      "    >>  bishnet_employee_database\n",
      "    >>  deal_note\n",
      "    >>  deleted_rono_assign\n",
      "    >>  delord\n",
      "    >>  form_dealer_address\n",
      "    >>  help_link\n",
      "    >>  dof_images\n",
      "    >>  dev_complaint_image\n",
      "    >>  drop_off_form\n",
      "    >>  invest_protect\n",
      "    >>  part_status\n",
      "    >>  new_job_request\n",
      "    >>  note\n",
      "    >>  open_service_det_unit_job_cause\n",
      "    >>  open_work_order\n",
      "    >>  part_image\n",
      "    >>  part_status_changelog\n",
      "    --  Skipping sales_snapshot : filter keyword match...\n",
      "    >>  image_test\n",
      "    >>  porter\n",
      "    >>  job_request\n",
      "    >>  porter_assign\n",
      "    >>  image\n",
      "    >>  retool_user\n",
      "    >>  retool_user_staging\n",
      "    >>  job_correction\n",
      "    >>  job_task\n",
      "    >>  rono_assign\n",
      "    >>  rv_sys_check\n",
      "    >>  temp_event_master_tech\n",
      "    >>  service_update\n",
      "    >>  setup\n",
      "    >>  service_outfitter_schedule\n",
      "    >>  terminal_messaging\n",
      "    >>  wint_tracker\n",
      "    >>  part_image_test\n",
      "    >>  temp_employee\n",
      "\n",
      "Building state machine for bishnet...\n",
      "bishnet.check_for_approval\n",
      "bishnet.complaint_image\n",
      "bishnet.employee\n",
      "bishnet.appsheets_techtime\n",
      "bishnet.bad_open_service_det_unit_job_cause\n",
      "bishnet.bfr\n",
      "bishnet.bishnet_employee_database\n",
      "bishnet.deal_note\n",
      "bishnet.deleted_rono_assign\n",
      "bishnet.delord\n",
      "bishnet.form_dealer_address\n",
      "bishnet.help_link\n",
      "bishnet.dof_images\n",
      "bishnet.dev_complaint_image\n",
      "bishnet.drop_off_form\n",
      "bishnet.invest_protect\n",
      "bishnet.part_status\n",
      "bishnet.new_job_request\n",
      "bishnet.note\n",
      "bishnet.open_service_det_unit_job_cause\n",
      "bishnet.open_work_order\n",
      "bishnet.part_image\n",
      "bishnet.part_status_changelog\n",
      "bishnet.image_test\n",
      "bishnet.porter\n",
      "bishnet.job_request\n",
      "bishnet.porter_assign\n",
      "bishnet.image\n",
      "bishnet.retool_user\n",
      "bishnet.retool_user_staging\n",
      "bishnet.job_correction\n",
      "bishnet.job_task\n",
      "bishnet.rono_assign\n",
      "bishnet.rv_sys_check\n",
      "bishnet.temp_event_master_tech\n",
      "bishnet.service_update\n",
      "bishnet.setup\n",
      "bishnet.service_outfitter_schedule\n",
      "bishnet.terminal_messaging\n",
      "bishnet.wint_tracker\n",
      "bishnet.part_image_test\n",
      "bishnet.temp_employee\n",
      "closing DB connection : localhost\n",
      "connection already closed : localhost\n"
     ]
    }
   ],
   "source": [
    "schema_name = 'public'\n",
    "state_machine, elapsed_time, responses = query(schema_name)"
   ]
  },
  {
   "cell_type": "code",
   "execution_count": 9,
   "metadata": {},
   "outputs": [
    {
     "name": "stdout",
     "output_type": "stream",
     "text": [
      "\n",
      "Saving outputs for bishfix...\n",
      "[('parent', '<u8'), ('key', 'u1'), ('values', '<u8', (14,))]\n"
     ]
    }
   ],
   "source": [
    "save(schema_name, state_machine, elapsed_time)"
   ]
  },
  {
   "cell_type": "code",
   "execution_count": 10,
   "metadata": {},
   "outputs": [],
   "source": [
    "sm = state_machine;"
   ]
  },
  {
   "cell_type": "code",
   "execution_count": 11,
   "metadata": {},
   "outputs": [
    {
     "name": "stdout",
     "output_type": "stream",
     "text": [
      "['bishnet.complaint_image.rono', 'bishnet.job_request.rono', 'bishnet.job_task.rono', 'bishnet.open_service_det_unit_job_cause.rono', 'bishnet.part_status.rono', 'bishnet.part_status_changelog.changelogid']\n",
      "['bishnet.appsheets_techtime.rono', 'bishnet.complaint_image.rono', 'bishnet.job_request.rono', 'bishnet.job_task.rono', 'bishnet.open_service_det_unit_job_cause.rono', 'bishnet.part_status.rono', 'bishnet.part_status_changelog.changelogid']\n"
     ]
    }
   ],
   "source": [
    "for s in ['105167', '106287']:\n",
    "    print(sm.search(s))"
   ]
  },
  {
   "cell_type": "code",
   "execution_count": null,
   "metadata": {},
   "outputs": [],
   "source": []
  }
 ],
 "metadata": {
  "kernelspec": {
   "display_name": "Python 3",
   "language": "python",
   "name": "python3"
  },
  "language_info": {
   "codemirror_mode": {
    "name": "ipython",
    "version": 3
   },
   "file_extension": ".py",
   "mimetype": "text/x-python",
   "name": "python",
   "nbconvert_exporter": "python",
   "pygments_lexer": "ipython3",
   "version": "3.11.3"
  },
  "orig_nbformat": 4
 },
 "nbformat": 4,
 "nbformat_minor": 2
}
