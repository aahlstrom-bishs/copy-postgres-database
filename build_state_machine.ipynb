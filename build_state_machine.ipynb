{
 "cells": [
  {
   "cell_type": "code",
   "execution_count": 1,
   "metadata": {},
   "outputs": [],
   "source": [
    "import json\n",
    "import pandas as pd\n",
    "import sys\n",
    "sys.path.append('./lib')\n",
    "\n",
    "from Node import Node\n",
    "from DBConnection import DBConnection\n",
    "from ReadJsonConfig import read_json_config\n",
    "from UsefulFunctions import flatten_list"
   ]
  },
  {
   "cell_type": "code",
   "execution_count": 2,
   "metadata": {},
   "outputs": [],
   "source": [
    "# root = Node()\n",
    "# root.min_search_distance = 1\n",
    "# root.add_path(\"hello\", \"world\")\n",
    "# root.add_path(\"'ello\", \"test\")\n",
    "\n",
    "# root.to_small_file(\"test.txt\")"
   ]
  },
  {
   "cell_type": "code",
   "execution_count": 6,
   "metadata": {},
   "outputs": [
    {
     "name": "stdout",
     "output_type": "stream",
     "text": [
      "num tables: 640\n",
      "bytes in int: 28\n",
      "bits in int: 224\n",
      "num ints: 2.857142857142857\n"
     ]
    },
    {
     "data": {
      "text/plain": [
       "{'nada': 6,\n",
       " 'public': 318,\n",
       " 'development': 0,\n",
       " 'recipe': 40,\n",
       " 'bishfix_dev': 0,\n",
       " 'inventory': 37,\n",
       " 'bishnet_dev': 0,\n",
       " 'bishfix': 44,\n",
       " 'analytics': 130,\n",
       " 'service': 0,\n",
       " 'inventory_dev': 0,\n",
       " 'terminal': 19,\n",
       " 'bishnet': 46}"
      ]
     },
     "execution_count": 6,
     "metadata": {},
     "output_type": "execute_result"
    }
   ],
   "source": [
    "schema = read_json_config('outputs/schemas.json')\n",
    "table_counts = {\n",
    "    key: len(tables.keys())\n",
    "    for key, tables\n",
    "    in schema.items()\n",
    "}\n",
    "num_tables = sum(table_counts.values())\n",
    "print(f\"num tables: {num_tables}\")\n",
    "\n",
    "x = 42\n",
    "num_bytes = sys.getsizeof(x)\n",
    "bits_in_int = num_bytes * 8\n",
    "print(f\"bytes in int: {num_bytes}\")\n",
    "print(f\"bits in int: {bits_in_int}\")\n",
    "print(f\"num ints: {num_tables / bits_in_int}\")\n",
    "\n",
    "table_counts"
   ]
  },
  {
   "cell_type": "markdown",
   "metadata": {},
   "source": [
    "# Query Data"
   ]
  },
  {
   "cell_type": "code",
   "execution_count": 4,
   "metadata": {},
   "outputs": [
    {
     "name": "stdout",
     "output_type": "stream",
     "text": [
      "Skipping schema nada : filter schema match...\n",
      "Skipping schema public : filter schema match...\n",
      "Skipping schema development : filter schema match...\n",
      "Skipping schema recipe : filter schema match...\n",
      "Skipping schema bishfix_dev : filter schema match...\n",
      "Skipping schema inventory : filter schema match...\n",
      "Skipping schema bishnet_dev : filter schema match...\n",
      "Fetching schema bishfix...\n",
      "    --  Skipping call_schedule : filter keyword match...\n",
      "    >>  case_unit\n",
      "    >>  part_request_detail\n",
      "    >>  job_time_estimate\n",
      "    >>  complaint\n",
      "    >>  part_request\n",
      "    >>  job_skill\n",
      "    >>  images\n",
      "    >>  image\n",
      "    --  Skipping call_resolution : filter keyword match...\n",
      "    >>  event_live_transfer\n",
      "    >>  event_live_transfer_staging\n",
      "    >>  action_case_manager\n",
      "    --  Skipping customer_creation : filter keyword match...\n",
      "    >>  case_manager_icon\n",
      "    --  Skipping call_live_transfer : filter keyword match...\n",
      "    --  Skipping filtered_evo_customer_db : filter keyword match...\n",
      "    >>  case_resolution\n",
      "    >>  app_time_dimension\n",
      "    >>  case_note\n",
      "    >>  terminal_help\n",
      "    --  Skipping customer : filter keyword match...\n",
      "    >>  action_mastertech\n",
      "    --  Skipping customer_unit_database : filter keyword match...\n",
      "    >>  action_part_request\n",
      "    >>  event_bishfix\n",
      "    >>  event_master_tech\n",
      "    >>  case_archive\n",
      "    >>  event_other\n",
      "    >>  filter\n",
      "    >>  action_intake\n",
      "    >>  terminal_help_staging\n",
      "    >>  job\n",
      "    >>  active_tag\n",
      "    >>  filter_mastertech\n",
      "    >>  tag\n",
      "    >>  part_status\n",
      "    >>  job_archive\n",
      "    --  Skipping call_log : filter keyword match...\n",
      "    >>  date_dimension\n",
      "    >>  time_dimension\n",
      "    >>  case\n",
      "    >>  filter_case_manager\n",
      "    >>  case_work_log\n",
      "Skipping schema analytics : filter schema match...\n",
      "Skipping schema service : filter schema match...\n",
      "Skipping schema inventory_dev : filter schema match...\n",
      "Fetching schema terminal...\n",
      "    >>  technician_time_log_active\n",
      "    >>  appointment\n",
      "    >>  image\n",
      "    >>  clockout_code\n",
      "    >>  record_requirement\n",
      "    >>  part_recomendation\n",
      "    >>  announcement\n",
      "    --  Skipping customer_database : filter keyword match...\n",
      "    >>  complaint\n",
      "    >>  complaint_job_relation\n",
      "    >>  appointment_cancel\n",
      "    >>  job_request\n",
      "    >>  technician_time_log\n",
      "    --  Skipping customer_pay_type : filter keyword match...\n",
      "    >>  resolution\n",
      "    >>  retool_user_staging\n",
      "    >>  acuity_calendar\n",
      "    --  Skipping customer_unit_database : filter keyword match...\n",
      "    >>  job\n",
      "Fetching schema bishnet...\n",
      "    >>  job_correction\n",
      "    >>  porter_assign\n",
      "    >>  bishnet_employee_database\n",
      "    >>  rono_assign\n",
      "    >>  image_test\n",
      "    >>  sales_snapshot\n",
      "    >>  service_outfitter_schedule\n",
      "    >>  temp_employee\n",
      "    >>  bfr\n",
      "    >>  check_for_approval\n",
      "    >>  deleted_rono_assign\n",
      "    >>  part_status\n",
      "    >>  rv_sys_check\n",
      "    >>  deal_note\n",
      "    >>  delord\n",
      "    >>  job_request\n",
      "    >>  temp_event_master_tech\n",
      "    >>  job_task\n",
      "    >>  wint_tracker\n",
      "    >>  porter\n",
      "    >>  new_job_request\n",
      "    >>  service_update\n",
      "    >>  dev_complaint_image\n",
      "    >>  part_image_test\n",
      "    >>  retool_user_staging\n",
      "    >>  open_service_det_unit_job_cause\n",
      "    >>  appsheets_techtime\n",
      "    >>  part_status_changelog\n",
      "    >>  image\n",
      "    >>  evo_import_active\n",
      "    >>  evo_import_archive\n",
      "    >>  dof_images\n",
      "    >>  open_work_order\n",
      "    >>  help_link\n",
      "    >>  part_image\n",
      "    >>  setup\n",
      "    >>  invest_protect\n",
      "    >>  employee\n",
      "    >>  terminal_messaging\n",
      "    >>  bad_open_service_det_unit_job_cause\n",
      "    >>  complaint_image\n",
      "    >>  note\n",
      "    >>  drop_off_form\n",
      "    >>  form_dealer_address\n",
      "    --  Skipping appsheets_techtime_backup : filter keyword match...\n",
      "    >>  retool_user\n"
     ]
    }
   ],
   "source": [
    "db = DBConnection(read_json_config('secrets/db_config_prod.json'))\n",
    "\n",
    "filter_keywords = [\n",
    "    \"analytics\",\n",
    "    'market',\n",
    "    'backup',\n",
    "    'finance',\n",
    "    'forecast',\n",
    "    'customer',\n",
    "    'call'\n",
    "    \n",
    "]\n",
    "filter_tables = [\n",
    "    \"used_make_model\",\n",
    "    \"analytics_marketdata\",\n",
    "    \"marketing_ss2021_11Desig\",\n",
    "    # \"evo_soldunitlabor\",\n",
    "]\n",
    "filter_schemas = [\n",
    "    \"nada\",\n",
    "    \"analytics\",\n",
    "    \"public\",\n",
    "    \"inventory\",\n",
    "    \"development\",\n",
    "    \"service\",\n",
    "    \"recipe\",\n",
    "    \"bishfix_dev\",\n",
    "    \"bishnet_dev\",\n",
    "    \"inventory_dev\",\n",
    "]\n",
    "\n",
    "queries = {}\n",
    "# schema_name = \"bishfix\"\n",
    "for schema_name, tables in schema.items():\n",
    "    if (schema_name in filter_schemas):\n",
    "        print(f\"Skipping schema {schema_name} : filter schema match...\")\n",
    "        continue\n",
    "    print(f\"Fetching schema {schema_name}...\")\n",
    "    for table_name in tables.keys():\n",
    "        if (table_name in filter_tables):\n",
    "            print(f\"    --  Skipping {table_name} : filter table match...\")\n",
    "            continue\n",
    "        if (any([keyword in table_name for keyword in filter_keywords])):\n",
    "            print(f\"    --  Skipping {table_name} : filter keyword match...\")\n",
    "            continue\n",
    "        print(f\"    >>  {table_name}\")\n",
    "        if not schema_name in queries:\n",
    "            queries[schema_name] = {}\n",
    "        try:\n",
    "            queries[schema_name][table_name] = db.fetch_query(f\"SELECT * FROM {schema_name}.{table_name}\")\n",
    "        except Exception as e:\n",
    "            print(f\"Error fetching table {table_name} from schema {schema_name}\")\n",
    "            print(e)\n",
    "            queries[schema_name][table_name] = None\n",
    "            db.rollback_transaction()"
   ]
  },
  {
   "cell_type": "markdown",
   "metadata": {},
   "source": [
    "# build state machine"
   ]
  },
  {
   "cell_type": "code",
   "execution_count": 5,
   "metadata": {},
   "outputs": [
    {
     "name": "stdout",
     "output_type": "stream",
     "text": [
      "max_distance:  50\n",
      "bishfix.case_unit\n",
      "bishfix.part_request_detail\n",
      "bishfix.job_time_estimate\n",
      "bishfix.complaint\n",
      "bishfix.part_request\n",
      "bishfix.job_skill\n",
      "bishfix.images\n",
      "bishfix.image\n",
      "bishfix.event_live_transfer\n",
      "bishfix.event_live_transfer_staging\n",
      "bishfix.action_case_manager\n",
      "bishfix.case_manager_icon\n",
      "bishfix.case_resolution\n",
      "bishfix.app_time_dimension\n",
      "bishfix.case_note\n",
      "bishfix.terminal_help\n",
      "bishfix.action_mastertech\n",
      "bishfix.action_part_request\n",
      "bishfix.event_bishfix\n",
      "bishfix.event_master_tech\n",
      "bishfix.case_archive\n",
      "bishfix.event_other\n",
      "bishfix.filter\n",
      "bishfix.action_intake\n",
      "bishfix.terminal_help_staging\n",
      "bishfix.job\n",
      "bishfix.active_tag\n",
      "bishfix.filter_mastertech\n",
      "bishfix.tag\n",
      "bishfix.part_status\n",
      "bishfix.job_archive\n",
      "bishfix.date_dimension\n",
      "bishfix.time_dimension\n",
      "bishfix.case\n",
      "bishfix.filter_case_manager\n",
      "bishfix.case_work_log\n",
      "terminal.technician_time_log_active\n",
      "terminal.appointment\n",
      "terminal.image\n",
      "terminal.clockout_code\n",
      "terminal.record_requirement\n",
      "terminal.part_recomendation\n",
      "terminal.announcement\n",
      "terminal.complaint\n",
      "terminal.complaint_job_relation\n",
      "terminal.appointment_cancel\n",
      "terminal.job_request\n",
      "terminal.technician_time_log\n",
      "terminal.resolution\n",
      "terminal.retool_user_staging\n",
      "terminal.acuity_calendar\n",
      "terminal.job\n",
      "bishnet.job_correction\n",
      "bishnet.porter_assign\n",
      "bishnet.bishnet_employee_database\n",
      "bishnet.rono_assign\n",
      "bishnet.image_test\n",
      "bishnet.sales_snapshot\n",
      "bishnet.service_outfitter_schedule\n",
      "bishnet.temp_employee\n",
      "bishnet.bfr\n",
      "bishnet.check_for_approval\n",
      "bishnet.deleted_rono_assign\n",
      "bishnet.part_status\n",
      "bishnet.rv_sys_check\n",
      "bishnet.deal_note\n",
      "bishnet.delord\n",
      "bishnet.job_request\n",
      "bishnet.temp_event_master_tech\n",
      "bishnet.job_task\n",
      "bishnet.wint_tracker\n",
      "bishnet.porter\n",
      "bishnet.new_job_request\n",
      "bishnet.service_update\n",
      "bishnet.dev_complaint_image\n",
      "bishnet.part_image_test\n",
      "bishnet.retool_user_staging\n",
      "bishnet.open_service_det_unit_job_cause\n",
      "bishnet.appsheets_techtime\n"
     ]
    },
    {
     "ename": "KeyboardInterrupt",
     "evalue": "",
     "output_type": "error",
     "traceback": [
      "\u001b[1;31m---------------------------------------------------------------------------\u001b[0m",
      "\u001b[1;31mKeyboardInterrupt\u001b[0m                         Traceback (most recent call last)",
      "Cell \u001b[1;32mIn[5], line 23\u001b[0m\n\u001b[0;32m     21\u001b[0m \u001b[39mfor\u001b[39;00m col_value \u001b[39min\u001b[39;00m col_values\u001b[39m.\u001b[39munique():\n\u001b[0;32m     22\u001b[0m     \u001b[39mif\u001b[39;00m col_value \u001b[39m!=\u001b[39m \u001b[39mNone\u001b[39;00m \u001b[39mand\u001b[39;00m col_value \u001b[39m!=\u001b[39m \u001b[39m\"\u001b[39m\u001b[39m\"\u001b[39m:\n\u001b[1;32m---> 23\u001b[0m         root\u001b[39m.\u001b[39;49madd_path(\u001b[39mstr\u001b[39;49m(col_value)[:\u001b[39m20\u001b[39;49m], \u001b[39mf\u001b[39;49m\u001b[39m\"\u001b[39;49m\u001b[39m{\u001b[39;49;00mschema_name\u001b[39m}\u001b[39;49;00m\u001b[39m.\u001b[39;49m\u001b[39m{\u001b[39;49;00mtable_name\u001b[39m}\u001b[39;49;00m\u001b[39m.\u001b[39;49m\u001b[39m{\u001b[39;49;00mcol_name\u001b[39m}\u001b[39;49;00m\u001b[39m\"\u001b[39;49m)\n",
      "File \u001b[1;32mc:\\Users\\aahlstrom\\GitHub\\copy-postgres-database\\./lib\\Node.py:131\u001b[0m, in \u001b[0;36mNode.add_path\u001b[1;34m(self, path, value)\u001b[0m\n\u001b[0;32m    127\u001b[0m     \u001b[39mraise\u001b[39;00m \u001b[39mException\u001b[39;00m(\u001b[39m\"\u001b[39m\u001b[39mpath and value must be non-empty strings\u001b[39m\u001b[39m\"\u001b[39m)\n\u001b[0;32m    129\u001b[0m \u001b[39mfor\u001b[39;00m i, _ \u001b[39min\u001b[39;00m \u001b[39menumerate\u001b[39m(path):\n\u001b[0;32m    130\u001b[0m     \u001b[39m# print(\"\\nroot: ---------------------------\")\u001b[39;00m\n\u001b[1;32m--> 131\u001b[0m     \u001b[39mself\u001b[39;49m\u001b[39m.\u001b[39;49mforge_path(path[i:], value)\n",
      "File \u001b[1;32mc:\\Users\\aahlstrom\\GitHub\\copy-postgres-database\\./lib\\Node.py:137\u001b[0m, in \u001b[0;36mNode.forge_path\u001b[1;34m(self, path, value)\u001b[0m\n\u001b[0;32m    135\u001b[0m child \u001b[39m=\u001b[39m \u001b[39mself\u001b[39m\u001b[39m.\u001b[39madd_child(path[\u001b[39m0\u001b[39m], value)\n\u001b[0;32m    136\u001b[0m \u001b[39mif\u001b[39;00m (child \u001b[39m!=\u001b[39m \u001b[39mNone\u001b[39;00m):\n\u001b[1;32m--> 137\u001b[0m     child\u001b[39m.\u001b[39;49mforge_path(path[\u001b[39m1\u001b[39;49m:], value)\n",
      "File \u001b[1;32mc:\\Users\\aahlstrom\\GitHub\\copy-postgres-database\\./lib\\Node.py:135\u001b[0m, in \u001b[0;36mNode.forge_path\u001b[1;34m(self, path, value)\u001b[0m\n\u001b[0;32m    133\u001b[0m \u001b[39mdef\u001b[39;00m \u001b[39mforge_path\u001b[39m(\u001b[39mself\u001b[39m, path: \u001b[39mstr\u001b[39m, value: \u001b[39mstr\u001b[39m):\n\u001b[0;32m    134\u001b[0m     \u001b[39mif\u001b[39;00m (\u001b[39mlen\u001b[39m(path) \u001b[39m>\u001b[39m \u001b[39m0\u001b[39m):\n\u001b[1;32m--> 135\u001b[0m             child \u001b[39m=\u001b[39m \u001b[39mself\u001b[39;49m\u001b[39m.\u001b[39;49madd_child(path[\u001b[39m0\u001b[39;49m], value)\n\u001b[0;32m    136\u001b[0m             \u001b[39mif\u001b[39;00m (child \u001b[39m!=\u001b[39m \u001b[39mNone\u001b[39;00m):\n\u001b[0;32m    137\u001b[0m                 child\u001b[39m.\u001b[39mforge_path(path[\u001b[39m1\u001b[39m:], value)\n",
      "File \u001b[1;32mc:\\Users\\aahlstrom\\GitHub\\copy-postgres-database\\./lib\\Node.py:93\u001b[0m, in \u001b[0;36mNode.add_child\u001b[1;34m(self, _key, _value)\u001b[0m\n\u001b[0;32m     90\u001b[0m     \u001b[39mreturn\u001b[39;00m \u001b[39mNone\u001b[39;00m;\n\u001b[0;32m     91\u001b[0m \u001b[39massert\u001b[39;00m(\u001b[39mlen\u001b[39m(_key) \u001b[39m==\u001b[39m \u001b[39m1\u001b[39m)\n\u001b[1;32m---> 93\u001b[0m keys \u001b[39m=\u001b[39m [child\u001b[39m.\u001b[39;49mkey \u001b[39mfor\u001b[39;49;00m child \u001b[39min\u001b[39;49;00m \u001b[39mself\u001b[39;49m\u001b[39m.\u001b[39;49mchildren]\n\u001b[0;32m     94\u001b[0m \u001b[39mif\u001b[39;00m (_key \u001b[39min\u001b[39;00m key_map \u001b[39mand\u001b[39;00m key_map[_key] \u001b[39min\u001b[39;00m keys):\n\u001b[0;32m     95\u001b[0m     \u001b[39m# print(\"   -- found matching key\")\u001b[39;00m\n\u001b[0;32m     96\u001b[0m     child \u001b[39m=\u001b[39m \u001b[39mself\u001b[39m\u001b[39m.\u001b[39mchildren[keys\u001b[39m.\u001b[39mindex(key_map[_key])]\n",
      "File \u001b[1;32mc:\\Users\\aahlstrom\\GitHub\\copy-postgres-database\\./lib\\Node.py:93\u001b[0m, in \u001b[0;36m<listcomp>\u001b[1;34m(.0)\u001b[0m\n\u001b[0;32m     90\u001b[0m     \u001b[39mreturn\u001b[39;00m \u001b[39mNone\u001b[39;00m;\n\u001b[0;32m     91\u001b[0m \u001b[39massert\u001b[39;00m(\u001b[39mlen\u001b[39m(_key) \u001b[39m==\u001b[39m \u001b[39m1\u001b[39m)\n\u001b[1;32m---> 93\u001b[0m keys \u001b[39m=\u001b[39m [child\u001b[39m.\u001b[39mkey \u001b[39mfor\u001b[39;00m child \u001b[39min\u001b[39;00m \u001b[39mself\u001b[39m\u001b[39m.\u001b[39mchildren]\n\u001b[0;32m     94\u001b[0m \u001b[39mif\u001b[39;00m (_key \u001b[39min\u001b[39;00m key_map \u001b[39mand\u001b[39;00m key_map[_key] \u001b[39min\u001b[39;00m keys):\n\u001b[0;32m     95\u001b[0m     \u001b[39m# print(\"   -- found matching key\")\u001b[39;00m\n\u001b[0;32m     96\u001b[0m     child \u001b[39m=\u001b[39m \u001b[39mself\u001b[39m\u001b[39m.\u001b[39mchildren[keys\u001b[39m.\u001b[39mindex(key_map[_key])]\n",
      "\u001b[1;31mKeyboardInterrupt\u001b[0m: "
     ]
    }
   ],
   "source": [
    "root = Node()\n",
    "root.set_max_distance(50)\n",
    "root.min_search_distance = 1\n",
    "\n",
    "print('max_distance: ', root.max_distance)\n",
    "\n",
    "filter_keywords = [\n",
    "    \"customer\",\n",
    "    \"call_log\",\n",
    "]\n",
    "\n",
    "for schema_name, table in queries.items():\n",
    "    for table_name, response in table.items():\n",
    "        if (any([keyword in table_name.lower() for keyword in filter_keywords])):\n",
    "            print(f\"  --  Skipping {schema_name}.{table_name}\")\n",
    "            continue\n",
    "        dict = db.to_dict(response, list(schema[schema_name][table_name]['columns'].keys()))\n",
    "        df = pd.DataFrame(dict)\n",
    "        print(f\"{schema_name}.{table_name}\")\n",
    "        for col_name, col_values in df.items():\n",
    "            for col_value in col_values.unique():\n",
    "                if col_value != None and col_value != \"\":\n",
    "                    root.add_path(str(col_value)[:20], f\"{schema_name}.{table_name}.{col_name}\")\n"
   ]
  },
  {
   "cell_type": "markdown",
   "metadata": {},
   "source": [
    "# Save State Machine"
   ]
  },
  {
   "cell_type": "code",
   "execution_count": null,
   "metadata": {},
   "outputs": [],
   "source": [
    "root.to_small_file(\"bishfix_smallfile\")"
   ]
  },
  {
   "cell_type": "markdown",
   "metadata": {},
   "source": [
    "# test search"
   ]
  },
  {
   "cell_type": "code",
   "execution_count": 18,
   "metadata": {},
   "outputs": [],
   "source": [
    "def search_path(path: str):\n",
    "    return list(set(flatten_list([node.get_values() for node in root.search_path(path)])))"
   ]
  },
  {
   "cell_type": "code",
   "execution_count": 19,
   "metadata": {},
   "outputs": [
    {
     "data": {
      "text/plain": [
       "{'a': ['bishnet.open_service_det_unit_job_cause.rono',\n",
       "  'bishnet.part_status.rono',\n",
       "  'bishnet.deleted_rono_assign.roheader_id',\n",
       "  'bishnet.job_task.rono',\n",
       "  'bishnet.dev_complaint_image.roheader_id',\n",
       "  'bishnet.service_outfitter_schedule.serviceoutfitterschedule_id',\n",
       "  'bishnet.job_request.rono',\n",
       "  'bishnet.dev_complaint_image.warrantytracker_id',\n",
       "  'terminal.appointment.id',\n",
       "  'bishnet.sales_snapshot.DealNoCMFDate'],\n",
       " 'b': ['bishnet.open_service_det_unit_job_cause.rono',\n",
       "  'bishnet.part_status.rono',\n",
       "  'bishnet.job_task.rono',\n",
       "  'bishnet.job_request.rono',\n",
       "  'bishnet.sales_snapshot.DealNoCMFDate']}"
      ]
     },
     "execution_count": 19,
     "metadata": {},
     "output_type": "execute_result"
    }
   ],
   "source": [
    "matches = {\n",
    "    \"a\": search_path(\"105167\"),\n",
    "    \"b\": search_path(\"106287\")\n",
    "}\n",
    "matches"
   ]
  },
  {
   "cell_type": "code",
   "execution_count": 20,
   "metadata": {},
   "outputs": [
    {
     "data": {
      "text/plain": [
       "{'bishnet.job_request.rono',\n",
       " 'bishnet.job_task.rono',\n",
       " 'bishnet.open_service_det_unit_job_cause.rono',\n",
       " 'bishnet.part_status.rono',\n",
       " 'bishnet.sales_snapshot.DealNoCMFDate'}"
      ]
     },
     "execution_count": 20,
     "metadata": {},
     "output_type": "execute_result"
    }
   ],
   "source": [
    "intersection = set(matches[\"a\"]).intersection(matches[\"b\"])\n",
    "intersection"
   ]
  },
  {
   "cell_type": "markdown",
   "metadata": {},
   "source": [
    "# find possible foreign matches"
   ]
  },
  {
   "cell_type": "code",
   "execution_count": null,
   "metadata": {},
   "outputs": [],
   "source": [
    "schema_name = \"bishfix\"\n",
    "table_name = \"job\"\n",
    "response = queries[schema_name][table_name]\n",
    "dict = db.to_dict(response, list(schema[schema_name][table_name]['columns'].keys()))\n",
    "df = pd.DataFrame(dict)\n",
    "df.head()"
   ]
  },
  {
   "cell_type": "code",
   "execution_count": null,
   "metadata": {},
   "outputs": [],
   "source": [
    "from Node import key_map\n",
    "key_map['6']"
   ]
  },
  {
   "cell_type": "code",
   "execution_count": null,
   "metadata": {},
   "outputs": [],
   "source": [
    "[node.get_values() for node in root.search_path('t')]"
   ]
  },
  {
   "cell_type": "code",
   "execution_count": null,
   "metadata": {},
   "outputs": [],
   "source": [
    "column_name = \"jobid\"\n",
    "matches = flatten_list([\n",
    "    node.get_values()\n",
    "    for value\n",
    "    in df[column_name]\n",
    "        for node\n",
    "        in root.search_path(str(value[:root.max_distance]))\n",
    "])\n",
    "\n",
    "matches = [match for match in matches if match != f\"{schema_name}.{table_name}.{column_name}\"]\n",
    "\n",
    "from collections import Counter\n",
    "counts = Counter(matches)\n",
    "\n",
    "print(f\"Possible foreign matches for {schema_name}.{table_name}.{column_name}:\")\n",
    "for (match, count) in counts.most_common(20):\n",
    "    print(f\"    ({count}) : {match}\")"
   ]
  },
  {
   "cell_type": "code",
   "execution_count": null,
   "metadata": {},
   "outputs": [],
   "source": [
    "[node.get_values() for node in root.search_path(\"105167\")]"
   ]
  },
  {
   "cell_type": "code",
   "execution_count": null,
   "metadata": {},
   "outputs": [],
   "source": [
    "[node.get_values() for node in root.search_path(\"106287\")]"
   ]
  },
  {
   "cell_type": "code",
   "execution_count": null,
   "metadata": {},
   "outputs": [],
   "source": []
  }
 ],
 "metadata": {
  "kernelspec": {
   "display_name": "Python 3",
   "language": "python",
   "name": "python3"
  },
  "language_info": {
   "codemirror_mode": {
    "name": "ipython",
    "version": 3
   },
   "file_extension": ".py",
   "mimetype": "text/x-python",
   "name": "python",
   "nbconvert_exporter": "python",
   "pygments_lexer": "ipython3",
   "version": "3.11.3"
  },
  "orig_nbformat": 4
 },
 "nbformat": 4,
 "nbformat_minor": 2
}
